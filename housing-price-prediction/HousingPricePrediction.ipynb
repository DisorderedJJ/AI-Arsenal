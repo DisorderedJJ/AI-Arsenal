{
 "cells": [
  {
   "cell_type": "markdown",
   "id": "9aaf4063-bcad-48a9-b5da-c9670b36c06d",
   "metadata": {},
   "source": [
    "# Housing Price Prediction with Feature Selection, Linear Rigression, Ridge Rigression and Lasso Regression"
   ]
  },
  {
   "cell_type": "markdown",
   "id": "e52c0c88-e5f8-4e7a-90c5-a1503da9c094",
   "metadata": {},
   "source": [
    "#### Import All Required Libraries"
   ]
  },
  {
   "cell_type": "code",
   "execution_count": null,
   "id": "b3d7560c-288f-4fab-ab8e-af423c759153",
   "metadata": {},
   "outputs": [],
   "source": [
    "import pandas as pd\n",
    "import numpy as np\n",
    "\n",
    "import os\n",
    "from sklearn.compose import ColumnTransformer\n",
    "from sklearn.pipeline import Pipeline\n",
    "from sklearn.impute import SimpleImputer\n",
    "from sklearn.preprocessing import OrdinalEncoder\n",
    "from sklearn.feature_selection import SelectKBest, f_regression\n",
    "from sklearn.linear_model import Lasso\n",
    "import matplotlib.pyplot as plt\n",
    "from sklearn.model_selection import train_test_split\n",
    "from sklearn.linear_model import LinearRegression, Ridge\n",
    "from sklearn.metrics import mean_squared_error, r2_score\n",
    "from sklearn.preprocessing import StandardScaler\n",
    "from sklearn.base import BaseEstimator, TransformerMixin\n",
    "from sklearn.compose import make_column_selector as selector\n"
   ]
  },
  {
   "cell_type": "code",
   "execution_count": null,
   "id": "9c23a80e-d31c-4aa5-bd16-d43cb40fa62f",
   "metadata": {},
   "outputs": [],
   "source": [
    "train_df = pd.read_csv(\"Data/train.csv\")\n",
    "train_df.head()"
   ]
  },
  {
   "cell_type": "code",
   "execution_count": null,
   "id": "dd56838d-7f94-4bbd-b704-b3bb61d75d53",
   "metadata": {},
   "outputs": [],
   "source": [
    "print(train_df.columns)\n",
    "print(train_df.columns.size)"
   ]
  },
  {
   "cell_type": "markdown",
   "id": "ad3452f9-22fd-428d-af37-cf5605354259",
   "metadata": {},
   "source": [
    "#### Drop the columns which have null values over 40% from the data"
   ]
  },
  {
   "cell_type": "code",
   "execution_count": null,
   "id": "f3b4e529-d1ec-40d8-82e9-47e2a2390d60",
   "metadata": {},
   "outputs": [],
   "source": [
    "class DropOverFourtyPercentNaNColumns(BaseEstimator, TransformerMixin):\n",
    "    def __init__(self, threshold=0.4):\n",
    "        self.threshold = threshold\n",
    "        self.cols_to_drop = []\n",
    "\n",
    "    def fit(self, X_df, y=None):\n",
    "        nan_ratio = X_df.isna().mean()\n",
    "        self.cols_to_drop_ = nan_ratio[nan_ratio > self.threshold].index.tolist()\n",
    "        return self\n",
    "\n",
    "    def transform(self, X):\n",
    "        dropped_df = pd.DataFrame(X).drop(columns=self.cols_to_drop_, errors=\"ignore\")\n",
    "        return dropped_df"
   ]
  },
  {
   "cell_type": "markdown",
   "id": "46db4a3d-ce92-41c4-a7f5-d5c9dbe7ed27",
   "metadata": {},
   "source": [
    "#### Seperate the variable that need to be predicted"
   ]
  },
  {
   "cell_type": "code",
   "execution_count": null,
   "id": "3d02d1e8-449e-4bc5-add0-1ae4cca662f4",
   "metadata": {},
   "outputs": [],
   "source": [
    "X = train_df.drop(columns=[\"SalePrice\"])\n",
    "Y = train_df[\"SalePrice\"]\n",
    "\n",
    "X.head()"
   ]
  },
  {
   "cell_type": "markdown",
   "id": "d5ea728a-dede-4873-ba8d-425de1372444",
   "metadata": {},
   "source": [
    "#### Fill the columns which have null data with not null values\n",
    "#### Encode categorical data to neumerical data"
   ]
  },
  {
   "cell_type": "code",
   "execution_count": null,
   "id": "905d6a79-dbad-4ef6-b407-a0198f64da70",
   "metadata": {},
   "outputs": [],
   "source": [
    "numeric_cols = X.select_dtypes(include=['int64', 'float64']).columns\n",
    "categorical_cols = X.select_dtypes(include=['object']).columns"
   ]
  },
  {
   "cell_type": "code",
   "execution_count": null,
   "id": "cc2d1fdb-1433-47dd-9009-6ab57cf72adc",
   "metadata": {},
   "outputs": [],
   "source": [
    "num_pipeline = Pipeline([\n",
    "    ('impute', SimpleImputer(strategy='median')),\n",
    "    ('scaler', StandardScaler())\n",
    "])\n",
    "\n",
    "cat_pipeline = Pipeline([\n",
    "    ('impute', SimpleImputer(strategy='most_frequent')),\n",
    "    ('encode', OrdinalEncoder(handle_unknown='use_encoded_value', unknown_value=-1))\n",
    "])\n",
    "\n",
    "preprocessor = ColumnTransformer([\n",
    "    ('num', num_pipeline, selector(dtype_include=['int64','float64'])),\n",
    "    ('cat', cat_pipeline, selector(dtype_include=['object']))\n",
    "], remainder='drop')"
   ]
  },
  {
   "cell_type": "markdown",
   "id": "94252d80-e48a-4b4f-861f-d28399e3eef6",
   "metadata": {},
   "source": [
    "#### Model With Filtered Columns"
   ]
  },
  {
   "cell_type": "code",
   "execution_count": null,
   "id": "fcefd68c-2ce7-486e-83bf-f4e75e072377",
   "metadata": {},
   "outputs": [],
   "source": [
    "X_train, X_test, y_train, y_test = train_test_split(X, Y, test_size=0.2, random_state=42)"
   ]
  },
  {
   "cell_type": "code",
   "execution_count": null,
   "id": "b22f71da-dd45-44af-93a8-14b1d7c3515b",
   "metadata": {},
   "outputs": [],
   "source": [
    "model = Pipeline(\n",
    "    [\n",
    "        ('drop_over_40Percent_nan', DropOverFourtyPercentNaNColumns(threshold=0.4)),\n",
    "        ('preprocessor', preprocessor),\n",
    "        ('feature_selection', SelectKBest(score_func=f_regression, k=40)),\n",
    "        ('regressor', LinearRegression())\n",
    "    ]\n",
    ")"
   ]
  },
  {
   "cell_type": "code",
   "execution_count": null,
   "id": "f8b107f2-6249-402b-86d0-3cc5bcb54bc2",
   "metadata": {},
   "outputs": [],
   "source": [
    "model.fit(X_train, y_train)"
   ]
  },
  {
   "cell_type": "code",
   "execution_count": null,
   "id": "5cd7e899-e04c-479b-b56f-e9fa13fd9488",
   "metadata": {},
   "outputs": [],
   "source": [
    "y_pred = model.predict(X_test)"
   ]
  },
  {
   "cell_type": "code",
   "execution_count": null,
   "id": "b80bf47d-c97f-4123-a0d5-8881c75bea82",
   "metadata": {},
   "outputs": [],
   "source": [
    "mse = mean_squared_error(y_test, y_pred)\n",
    "rmse = np.sqrt(mse)\n",
    "r2 = r2_score(y_test, y_pred)"
   ]
  },
  {
   "cell_type": "code",
   "execution_count": null,
   "id": "eb86644e-3a8b-480d-b7ee-1659d9c160d1",
   "metadata": {},
   "outputs": [],
   "source": [
    "print(\"Model Performance:\")\n",
    "print(\"Mean Squared Error (MSE):\", mse)\n",
    "print(\"Root Mean Squared Error (RMSE):\", rmse)\n",
    "print(\"R² Score:\", r2)"
   ]
  },
  {
   "cell_type": "markdown",
   "id": "3f02f69f-d438-465b-a3ee-0c457b28d7b4",
   "metadata": {},
   "source": [
    "#### Model With all The Columns"
   ]
  },
  {
   "cell_type": "code",
   "execution_count": null,
   "id": "c8eee7e6-51ae-473c-9803-6c64c3fe4896",
   "metadata": {},
   "outputs": [],
   "source": [
    "X_train_1, X_test_1, y_train_1, y_test_1 = train_test_split(X, Y, test_size=0.2, random_state=42)"
   ]
  },
  {
   "cell_type": "code",
   "execution_count": null,
   "id": "34f6e2c3-b8e4-4aff-ad09-f615e2743e30",
   "metadata": {},
   "outputs": [],
   "source": [
    "model_1 = Pipeline(\n",
    "    [\n",
    "        ('drop_over_40Percent_nan', DropOverFourtyPercentNaNColumns(threshold=0.4)),\n",
    "        ('preprocessor', preprocessor),\n",
    "        ('regressor', LinearRegression())\n",
    "    ]\n",
    ")"
   ]
  },
  {
   "cell_type": "code",
   "execution_count": null,
   "id": "6967e20c-7bc6-4144-98c7-8ebccfd0281b",
   "metadata": {},
   "outputs": [],
   "source": [
    "# model_1 = LinearRegression()\n",
    "model_1.fit(X_train_1, y_train_1)"
   ]
  },
  {
   "cell_type": "code",
   "execution_count": null,
   "id": "9a936e0f-ca12-4f7f-b2e5-ec56ff710039",
   "metadata": {},
   "outputs": [],
   "source": [
    "y_pred_1 = model_1.predict(X_test_1)"
   ]
  },
  {
   "cell_type": "code",
   "execution_count": null,
   "id": "bc1c2e43-b7f8-4f6a-8eb6-a88e429d4229",
   "metadata": {},
   "outputs": [],
   "source": [
    "mse_1 = mean_squared_error(y_test_1, y_pred_1)\n",
    "rmse_1 = np.sqrt(mse_1)\n",
    "r2_1 = r2_score(y_test_1, y_pred_1)"
   ]
  },
  {
   "cell_type": "code",
   "execution_count": null,
   "id": "e66afe01-f7f7-441f-90e8-6fa91cee826d",
   "metadata": {},
   "outputs": [],
   "source": [
    "print(\"Model Performance:\")\n",
    "print(\"Mean Squared Error (MSE):\", mse_1)\n",
    "print(\"Root Mean Squared Error (RMSE):\", rmse_1)\n",
    "print(\"R² Score:\", r2_1)"
   ]
  },
  {
   "cell_type": "markdown",
   "id": "797f02b3-76a8-4178-8929-003f28b61a8e",
   "metadata": {},
   "source": [
    "#### Model With Ridge Regression"
   ]
  },
  {
   "cell_type": "code",
   "execution_count": null,
   "id": "79a62c30-1d38-4aaf-9b74-b3afffc5c807",
   "metadata": {},
   "outputs": [],
   "source": [
    "X_train_2, X_test_2, y_train_2, y_test_2 = train_test_split(X, Y, test_size=0.2, random_state=42)"
   ]
  },
  {
   "cell_type": "code",
   "execution_count": null,
   "id": "6383aa65-8ff6-41bd-a80f-da5750e1d4fb",
   "metadata": {},
   "outputs": [],
   "source": [
    "model_2 = Pipeline(\n",
    "    [\n",
    "        ('drop_over_40Percent_nan', DropOverFourtyPercentNaNColumns(threshold=0.4)),\n",
    "        ('preprocessor', preprocessor),\n",
    "        ('regressor', Ridge(alpha=100.0) )\n",
    "    ]\n",
    ")"
   ]
  },
  {
   "cell_type": "code",
   "execution_count": null,
   "id": "c1fe24f8-cd1e-4616-a2b1-c1769ece9406",
   "metadata": {},
   "outputs": [],
   "source": [
    "model_2.fit(X_train_2, y_train_2)"
   ]
  },
  {
   "cell_type": "code",
   "execution_count": null,
   "id": "f71a9880-8be3-4574-b06e-e804f7f49d61",
   "metadata": {},
   "outputs": [],
   "source": [
    "y_pred_2 = model_2.predict(X_test_2)"
   ]
  },
  {
   "cell_type": "code",
   "execution_count": null,
   "id": "81245a9f-4d2b-4fd0-9b98-c076e4000ecf",
   "metadata": {},
   "outputs": [],
   "source": [
    "mse_2 = mean_squared_error(y_test_2, y_pred_2)\n",
    "rmse_2 = np.sqrt(mse_2)\n",
    "r2_2 = r2_score(y_test_2, y_pred_2)"
   ]
  },
  {
   "cell_type": "code",
   "execution_count": null,
   "id": "ec74417a-46eb-4a28-b62f-da477f397d50",
   "metadata": {},
   "outputs": [],
   "source": [
    "print(\"Model Performance:\")\n",
    "print(\"Mean Squared Error (MSE):\", mse_2)\n",
    "print(\"Root Mean Squared Error (RMSE):\", rmse_2)\n",
    "print(\"R² Score:\", r2_2)"
   ]
  },
  {
   "cell_type": "markdown",
   "id": "4f449578-e26f-41d6-87ab-1078ee16f997",
   "metadata": {},
   "source": [
    "#### Model With Lasso Regression"
   ]
  },
  {
   "cell_type": "code",
   "execution_count": null,
   "id": "3f726f7f-8a9c-46e8-8439-fec8168910ca",
   "metadata": {},
   "outputs": [],
   "source": [
    "X_train3, X_test3, y_train3, y_test3 = train_test_split(X, Y, test_size=0.2, random_state=42)"
   ]
  },
  {
   "cell_type": "code",
   "execution_count": null,
   "id": "c92d5bff-a541-470e-82ab-8ce94e9a3dc5",
   "metadata": {},
   "outputs": [],
   "source": [
    "model_3 = Pipeline(\n",
    "    [\n",
    "        ('drop_over_40Percent_nan', DropOverFourtyPercentNaNColumns(threshold=0.4)),\n",
    "        ('preprocessor', preprocessor),\n",
    "        ('lasso_regressor', Lasso(alpha=0.5, max_iter=1000, random_state=42) )\n",
    "    ]\n",
    ")"
   ]
  },
  {
   "cell_type": "code",
   "execution_count": null,
   "id": "b58e06c2-89ff-40e0-9aa9-e367916d4837",
   "metadata": {},
   "outputs": [],
   "source": [
    "model_3.fit(X_train3, y_train3)"
   ]
  },
  {
   "cell_type": "code",
   "execution_count": null,
   "id": "fcec5ee4-4529-4708-8d22-ad76719d7e1b",
   "metadata": {},
   "outputs": [],
   "source": [
    "y_pred3 = model_3.predict(X_test3)"
   ]
  },
  {
   "cell_type": "code",
   "execution_count": null,
   "id": "e8d0adb4-bc5b-4262-84c9-e56653924225",
   "metadata": {},
   "outputs": [],
   "source": [
    "mse_3 = mean_squared_error(y_test3, y_pred3)\n",
    "rmse_3 = np.sqrt(mse_3)\n",
    "r2_3 = r2_score(y_test3, y_pred3)"
   ]
  },
  {
   "cell_type": "code",
   "execution_count": null,
   "id": "b7c749ca-0536-49ee-8bef-5280e2ae6dfe",
   "metadata": {},
   "outputs": [],
   "source": [
    "print(\"Model Performance:\")\n",
    "print(\"Mean Squared Error (MSE):\", mse_3)\n",
    "print(\"Root Mean Squared Error (RMSE):\", rmse_3)\n",
    "print(\"R² Score:\", r2_3)"
   ]
  },
  {
   "cell_type": "code",
   "execution_count": null,
   "id": "235b5c8c-5c46-4e9f-8a18-8a0bed245978",
   "metadata": {},
   "outputs": [],
   "source": []
  }
 ],
 "metadata": {
  "kernelspec": {
   "display_name": "Python 3 (ipykernel)",
   "language": "python",
   "name": "python3"
  },
  "language_info": {
   "codemirror_mode": {
    "name": "ipython",
    "version": 3
   },
   "file_extension": ".py",
   "mimetype": "text/x-python",
   "name": "python",
   "nbconvert_exporter": "python",
   "pygments_lexer": "ipython3",
   "version": "3.11.13"
  }
 },
 "nbformat": 4,
 "nbformat_minor": 5
}
